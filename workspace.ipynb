{
 "cells": [
  {
   "cell_type": "code",
   "execution_count": 1,
   "id": "08aa0dbf-4a72-419a-892a-657df9f6b4e4",
   "metadata": {},
   "outputs": [],
   "source": [
    "!pip install -r requirments.txt"
   ]
  },
  {
   "cell_type": "code",
   "execution_count": 1,
   "id": "e0071ad5-1b40-4ea8-8d80-44051dc14af6",
   "metadata": {},
   "outputs": [],
   "source": [
    "import pandas\n",
    "import pandasql"
   ]
  },
  {
   "cell_type": "code",
   "execution_count": 2,
   "id": "644cdccd-a5ec-4bcd-a155-486211f05b85",
   "metadata": {},
   "outputs": [],
   "source": [
    "task1 = pandas.read_csv('task1.csv')"
   ]
  },
  {
   "cell_type": "code",
   "execution_count": 3,
   "id": "d2e951d7-9002-4027-bbd4-3ea8b145cdfe",
   "metadata": {},
   "outputs": [],
   "source": [
    "sql_query1 = '''\n",
    "select *\n",
    "from task1\n",
    "'''"
   ]
  },
  {
   "cell_type": "code",
   "execution_count": null,
   "id": "d406d531-cc46-4677-8fbc-42083dcc964c",
   "metadata": {},
   "outputs": [],
   "source": [
    "pandasql.sqldf(sql_query1)"
   ]
  },
  {
   "cell_type": "code",
   "execution_count": 6,
   "id": "617c65bd-d735-4da2-b826-f805e4184755",
   "metadata": {},
   "outputs": [],
   "source": [
    "task2 = pandas.read_csv('task2.csv')"
   ]
  },
  {
   "cell_type": "code",
   "execution_count": 7,
   "id": "78d86d26-54c1-4fc8-8e28-31345fd4b969",
   "metadata": {},
   "outputs": [],
   "source": [
    "sql_query2 = '''\n",
    "select *\n",
    "from task2\n",
    "'''"
   ]
  },
  {
   "cell_type": "code",
   "execution_count": null,
   "id": "e4b68ad2-e0cc-4c22-951b-3266bbc550f5",
   "metadata": {},
   "outputs": [],
   "source": [
    "pandasql.sqldf(sql_query2)"
   ]
  }
 ],
 "metadata": {
  "kernelspec": {
   "display_name": "Python 3 (ipykernel)",
   "language": "python",
   "name": "python3"
  },
  "language_info": {
   "codemirror_mode": {
    "name": "ipython",
    "version": 3
   },
   "file_extension": ".py",
   "mimetype": "text/x-python",
   "name": "python",
   "nbconvert_exporter": "python",
   "pygments_lexer": "ipython3",
   "version": "3.9.13"
  }
 },
 "nbformat": 4,
 "nbformat_minor": 5
}
